{
  "cells": [
    {
      "cell_type": "markdown",
      "metadata": {},
      "source": [
        "**Traxxis 1/10 Scale RC Car Autonomous Vehicle Repositoy**\n",
        "Demonstration code for running a small vehicle intersection with figure 8 loop using M1M1 LIDAR and SLAM for localization as well as an IMX160 camera mounted on 1/1/ scal Traxxis Slash remote control cars. Image recogition is done using Darkent YoloV4 Convolutional Neural Net trained to recognise our 1/10 scale CAVs. LIDAR point clustering is done with the DBScan Library. Local sensor fusion is don eusing a Kalman Filter and JPDA Filter. And global sensor fusion is done using a similar JPDA Filter and Kalman Filter combination."
      ]
    },
    {
      "cell_type": "markdown",
      "metadata": {
        "id": "YmyvJPD7MPp0"
      },
      "source": [
        "**Installation:**\n",
        "This first code snipped is simply downloading all the repositories from Github and installing all of the python library dependencies for them. We will be downloading and building the Darknet library so that we can use YoloV4 CNN to detect CAVs in video streams. We will then download the retrained YoloV4 Tiny models that are used for recognising our CAVs. Other python requirements will be downloaded and installed using PIP. And finally we will download a set of pre-recorded data from a test so that we can do some hardware in the loop testing using Colab in addition to our full simulation environment. Be aware this can take upwards of 5 minutes to execute. You should only need to run this a single time!\n",
        "\n",
        "*Note for Physical Hardware Installation*\n",
        "To Install on physical Jetson hardware will not be as simple as running in Google Colab. We suggest first running this in Colab to get the hang of it before attempting a forray into installation on physical hardware. We will discuss these installation steps at the end of the Colab specific demo."
      ]
    },
    {
      "cell_type": "code",
      "execution_count": null,
      "metadata": {
        "colab": {
          "background_save": true
        },
        "id": "mKaIFIz17_bY",
        "outputId": "41c8bb23-e3ea-4380-f0d5-17579748bd74"
      },
      "outputs": [],
      "source": [
        "# Check our directory just in case\n",
        "%cd /content/\n",
        "\n",
        "# Clone Darknet and Dependencies\n",
        "!git clone https://github.com/AlexeyAB/darknet/\n",
        "!cd darknet/ && apt install libopencv-dev python-opencv ffmpeg\n",
        "!pip install nanocamera shapely numpy sklearn matplotlib simple_pid\n",
        "\n",
        "# Build darknet using CPU settings\n",
        "!cd darknet && sed -i 's/OPENCV=0/OPENCV=1/g' Makefile\n",
        "!cd darknet && sed -i 's/CUDNN=1/CUDNN=0/g' Makefile\n",
        "!cd darknet && sed -i 's/GPU=1/GPU=0/g' Makefile\n",
        "!cd darknet && sed -i 's/OPENMP=0/OPENMP=1/g' Makefile\n",
        "!cd darknet && sed -i 's/AVX=0/AVX=1/g' Makefile\n",
        "!cd darknet && sed -i 's/LIBSO=0/LIBSO=1/g' Makefile\n",
        "!cd darknet && make\n",
        "!chmod +x /content/darknet/libdarknet.so\n",
        "\n",
        "# Download files from google drive for use with darknet\n",
        "print(' Begining to download files... this may take a while...')\n",
        "\n",
        "folders = ['/content/yolofiles', '/content/yolofiles/cav0', '/content/yolofiles/cav1']\n",
        "\n",
        "files = [['/content/yolofiles/cav_test.txt', 'https://drive.google.com/u/0/uc?id=1WlL20udwRIoJq5Pkq1L6Iv6M3qhlc0MD&export=download'],\n",
        "         ['/content/yolofiles/cav_train.txt', 'https://drive.google.com/u/0/uc?id=1bf0MobhUnzKnGjLdsBXGTs2vHOFIM2-w&export=download'],\n",
        "         ['/content/yolofiles/cav.data', 'https://drive.google.com/u/0/uc?id=1jcEDFQ5n56Hq5tWJXXZ5N3Pg-p9qjq9t&export=download'],\n",
        "         ['/content/yolofiles/cav.names', 'https://drive.google.com/u/0/uc?id=1hP7bfu5Ei-5w1cub5-vZJ-96mx0LLVMY&export=download'],\n",
        "         ['/content/yolofiles/yolov4-tiny-cav.cfg', 'https://drive.google.com/u/0/uc?id=1yMQntYWsVbJ8h7x0r0Hv5y34o2IGRVJ2&export=download'],\n",
        "         ['/content/yolofiles/yolov4-tiny-cav.weights', 'https://drive.google.com/u/0/uc?id=1g8r59Xcn5-n6jpc2ZjQdv-1jsLAiKN9w&export=download'],\n",
        "         ['/content/yolofiles/cav0/cam_output.txt', 'https://drive.google.com/u/0/uc?id=1Vt5BEkVysTk5dJE0Lb47EQttT46LVB97&export=download'],\n",
        "         ['/content/yolofiles/cav0/lidar_output.txt', 'https://drive.google.com/u/0/uc?id=1fTYHu3lmEIVjul30EfUyGWyvifPSSAQY&export=download'],\n",
        "         ['/content/yolofiles/cav0/live_test_output.avi', 'https://drive.google.com/u/0/uc?id=1mqnQVoy8ZH2jDLZehC_J2ihtMcBfnse-&export=download'],\n",
        "         ['/content/yolofiles/cav1/cam_output.txt', 'https://drive.google.com/u/0/uc?id=1xHz5YmlhRC0ex8PSE5IKB8ZA6DBaakDk&export=download'],\n",
        "         ['/content/yolofiles/cav1/lidar_output.txt', 'https://drive.google.com/u/0/uc?id=1uYCHBluYurS4GGLSgPRpDsMWAY6GCaGb&export=download'],\n",
        "         ['/content/yolofiles/cav1/live_test_output.avi', 'https://drive.google.com/u/0/uc?id=1kJnRCRyXbBuwu8RojMJgQy1PEngGmuXc&export=download']]\n",
        "\n",
        "\n",
        "import os.path\n",
        "import gdown\n",
        "\n",
        "# Check that the folders exist or create them\n",
        "for folder in folders:\n",
        "  if not os.path.exists(folder):\n",
        "    os.makedirs(folder)\n",
        "\n",
        "# Check that the files exist or download them\n",
        "for file in files:\n",
        "  if os.path.isfile(file[0]): \n",
        "    print(\"File \" +  file[0] + \" found.\")\n",
        "  else:\n",
        "    print(\"Downloading file \" +  file[0] + \".\")\n",
        "    gdown.download(file[1], file[0], quiet=False)\n",
        "\n",
        "# Fix a few lines in cav.data\n",
        "!cd /content/yolofiles && sed -i 's/data\\//\\/content\\/yolofiles\\//g' cav.data\n",
        "\n",
        "# We are done!\n",
        "print(\"1/10 Scale CAV Simulation setup complete, proceed to next block.\")"
      ]
    },
    {
      "cell_type": "markdown",
      "metadata": {
        "id": "qttuwYMB9mMf"
      },
      "source": [
        "Simulation: To run the code in simulatuion mode (i.e. no real RC cars), simply run python main.py with the argument \"simulation\". Upon startup of the GUI you may enter target speeds for each of the 2 vehicles, this should be between 0 and 2 (units is meters per second) otherwise the control system will not be able to keep the vehicles on the track. Once there is a speed entered for both, click the \"Start Test\" button. The pause test will set the target speeds to 0 to temporarily pause the test. You can also update the target speeds in real time. Finally when you are done, click \"End Test\" and the simulation and all associated threads will be shut down correctly."
      ]
    },
    {
      "cell_type": "code",
      "execution_count": null,
      "metadata": {
        "id": "u_-zlqU4sKuT"
      },
      "outputs": [],
      "source": [
        "python main.py"
      ]
    },
    {
      "cell_type": "markdown",
      "metadata": {
        "id": "v53j0VGi5XK2"
      },
      "source": [
        "Jetson Hardward Installation Guide (This is a work in progress!):\n",
        " Download the SD card image and upload to 64 GB SD card. This will save days of building the correct libraries, etc. TODO: Place google drive link here for Jetseon TX2 Clone this repo on the Home/Projects/ folder. TODO: Place google drive link here for Jetson Nano Clone this repo on the Home/Projects/ folder.\n",
        "\n",
        "In order to recognise the 1/10th scale vehicles you will need the retrained version of YoloV4 tiny. Be sure to download and add the following YoloV4 files into the darknet folder:\n",
        "\n",
        "In order to recognise the 1/10th scale vehicles you will need the retrained version of YoloV4 tiny. Be sure to download and add the following YoloV4 files into the darknet folder: \n",
        " * [yolov4-tiny-cav.cfg](https://drive.google.com/file/d/1yMQntYWsVbJ8h7x0r0Hv5y34o2IGRVJ2/view?usp=sharing), needs to be located in /cfg\n",
        " * [cav.names](https://drive.google.com/file/d/1hP7bfu5Ei-5w1cub5-vZJ-96mx0LLVMY/view?usp=sharing), needs to be located in /data\n",
        " * [cav.data](https://drive.google.com/file/d/1jcEDFQ5n56Hq5tWJXXZ5N3Pg-p9qjq9t/view?usp=sharing), needs to be located in /data\n",
        " * [yolov4-tiny-cav.weights](https://drive.google.com/file/d/1g8r59Xcn5-n6jpc2ZjQdv-1jsLAiKN9w/view?usp=sharing), needs to be located in /weights\n",
        "\n",
        "If you are interested in the data that was used to build this, you can find the 416x416 pictures converted for darknet here: [Training Data](https://drive.google.com/drive/folders/1pw01WHVJSjuO1fQmrj9-hd2wD756w0JB?usp=sharing). Over time this will increase in size as we add more data."
      ]
    }
  ],
  "metadata": {
    "colab": {
      "collapsed_sections": [],
      "name": "TicktalkPythonExamples.ipynb",
      "provenance": []
    },
    "kernelspec": {
      "display_name": "Python 3",
      "name": "python3"
    },
    "language_info": {
      "name": "python"
    }
  },
  "nbformat": 4,
  "nbformat_minor": 0
}
